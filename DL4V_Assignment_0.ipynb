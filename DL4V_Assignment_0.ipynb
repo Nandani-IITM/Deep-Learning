{
  "cells": [
    {
      "cell_type": "markdown",
      "metadata": {
        "id": "view-in-github",
        "colab_type": "text"
      },
      "source": [
        "<a href=\"https://colab.research.google.com/github/Nandani-IITM/Deep-Learning/blob/main/DL4V_Assignment_0.ipynb\" target=\"_parent\"><img src=\"https://colab.research.google.com/assets/colab-badge.svg\" alt=\"Open In Colab\"/></a>"
      ]
    },
    {
      "cell_type": "markdown",
      "metadata": {
        "id": "Sdf6X2hjDNFA"
      },
      "source": [
        "#### **Welcome to Assignment 0 on Deep Learning for Computer Vision.**\n",
        "In this assignment you will get a chance to understand and work on some of the commonly used functionalities of several Machine Learnign and Data Analysis libraries\n",
        "\n",
        "#### **Instructions**\n",
        "1. Use Python 3.x to run this notebook\n",
        "2. Write your code only in between the lines 'YOUR CODE STARTS HERE' and 'YOUR CODE ENDS HERE'.\n",
        "3. Look up the documentation for each of the Python and Numpy function used.\n",
        "4. This Assignment is just to make you understand several commonly used library functions.\n",
        "5. This assignment is **NOT** evaluated"
      ]
    },
    {
      "cell_type": "code",
      "execution_count": null,
      "metadata": {
        "id": "9LTkyyoa9Q2K"
      },
      "outputs": [],
      "source": [
        "# DO NOT CHANGE THIS CODE\n",
        "import numpy as np\n",
        "np.random.seed(0)"
      ]
    },
    {
      "cell_type": "markdown",
      "metadata": {
        "id": "8koNOLdwDSf_"
      },
      "source": [
        "#### Python Basics\n"
      ]
    },
    {
      "cell_type": "code",
      "execution_count": null,
      "metadata": {
        "id": "SqufR0fDDT9s"
      },
      "outputs": [],
      "source": [
        "### Implement recursive fibonacci in the function below\n",
        "def recursive_fibonacci(n):\n",
        "  ## YOUR CODE STARTS HERE\n",
        "\n",
        "  ## YOUR CODE ENDS HERE"
      ]
    },
    {
      "cell_type": "code",
      "execution_count": null,
      "metadata": {
        "id": "rncsA0RIDTdJ"
      },
      "outputs": [],
      "source": [
        "### Test your code using the function call below.\n",
        "recursive_fibonacci(3)"
      ]
    },
    {
      "cell_type": "markdown",
      "metadata": {
        "id": "V0vcbpLPDXNw"
      },
      "source": [
        "#### Lambda function"
      ]
    },
    {
      "cell_type": "code",
      "execution_count": null,
      "metadata": {
        "id": "r0eP5yH9DYum"
      },
      "outputs": [],
      "source": [
        "def sigmoid(x):\n",
        "  sigmoid = 1 / (1 + np.exp(-x))\n",
        "  return sigmoid\n",
        "\n",
        "## Implement the above sigmoid function using python lambda functions\n",
        "## YOUR CODE STARTS HERE\n",
        "sigmoid_lambda =\n",
        "## YOUR CODE ENDS HERE"
      ]
    },
    {
      "cell_type": "code",
      "execution_count": null,
      "metadata": {
        "id": "Z8OOFvDEKopC"
      },
      "outputs": [],
      "source": [
        "## Check you implementation by running this cell (should return True)\n",
        "sigmoid(1) == sigmoid_lambda(1)"
      ]
    },
    {
      "cell_type": "markdown",
      "metadata": {
        "id": "VpfxvB4pKyrm"
      },
      "source": [
        "#### List Comprehension"
      ]
    },
    {
      "cell_type": "code",
      "execution_count": null,
      "metadata": {
        "id": "336h3e1fKt1h"
      },
      "outputs": [],
      "source": [
        "div_by_four = []\n",
        "for number in range(200):\n",
        "    if number%4 == 0:\n",
        "        div_by_four.append(number)\n",
        "\n",
        "## Implement the above function using list comprehensions\n",
        "## YOUR CODE STARTS HERE\n",
        "div_by_four_lc =\n",
        "## YOUR CODE ENDS HERE"
      ]
    },
    {
      "cell_type": "code",
      "execution_count": null,
      "metadata": {
        "id": "sJbe5xkNKvof"
      },
      "outputs": [],
      "source": [
        "## Check you implementation by running this cell (should return True)\n",
        "div_by_four == div_by_four_lc"
      ]
    },
    {
      "cell_type": "markdown",
      "metadata": {
        "id": "CnmH9QeBDdqo"
      },
      "source": [
        "#### Python map keyword\n",
        "Using the lambda functions and python's map keyword apply sigmoid on a list of numbers from 0 to 99. Store the output in a list and print it.\n",
        "\n",
        "**Observe what happens to the value of sigmoid as the value of x increases. Do you see any trend?**"
      ]
    },
    {
      "cell_type": "code",
      "execution_count": null,
      "metadata": {
        "id": "O0KFWmM6DcYF"
      },
      "outputs": [],
      "source": [
        "## YOUR CODE STARTS HERE\n",
        "out =\n",
        "## YOUR CODE ENDS HERE"
      ]
    },
    {
      "cell_type": "markdown",
      "metadata": {
        "id": "VT3ZYI-I1lnd"
      },
      "source": [
        "# Numpy Basics:\n"
      ]
    },
    {
      "cell_type": "markdown",
      "metadata": {
        "id": "xK6sSYVF9fd6"
      },
      "source": [
        "#### Creating a numpy array with particular value\n"
      ]
    },
    {
      "cell_type": "code",
      "execution_count": null,
      "metadata": {
        "id": "sSfnCu7z9sLi"
      },
      "outputs": [],
      "source": [
        "# Create a numpy array with size 2*2 with all elements as 8.\n",
        "\n",
        "# YOUR CODE STARTS HERE\n",
        "arr =\n",
        "# YOUR CODE ENDS HERE"
      ]
    },
    {
      "cell_type": "markdown",
      "metadata": {
        "id": "GeBrhozVLuAz"
      },
      "source": [
        "#### Basic Numpy operations:"
      ]
    },
    {
      "cell_type": "code",
      "execution_count": null,
      "metadata": {
        "id": "lGxwXbQ05J9y"
      },
      "outputs": [],
      "source": [
        "#Create a numpy array of size 3*3 with random values\n",
        "\n",
        "#YOUR CODE STARTS HERE\n",
        "rand_arr =\n",
        "#YOUR CODE ENDS HERE\n",
        "\n"
      ]
    },
    {
      "cell_type": "code",
      "execution_count": null,
      "metadata": {
        "id": "cZvWczfHkrVe"
      },
      "outputs": [],
      "source": [
        "#Find the sum of all the elements, mean, maximum and minimum value of the numpy array defined above\n",
        "\n",
        "#YOUR CODE STARTS HERE\n",
        "arr_sum =\n",
        "arr_mean =\n",
        "arr_max =\n",
        "arr_min =\n",
        "#YOUR CODE ENDS HERE"
      ]
    },
    {
      "cell_type": "markdown",
      "metadata": {
        "id": "1h0zn0xPKoZt"
      },
      "source": [
        "#### Reshaping and Indexing of Numpy Array:"
      ]
    },
    {
      "cell_type": "code",
      "execution_count": null,
      "metadata": {
        "id": "mUmvsP_S6O1o"
      },
      "outputs": [],
      "source": [
        "#create a 1D numpy array of shape 35 with values 1,2,3..,35\n",
        "\n",
        "#YOUR CODE STARTS HERE\n",
        "y =\n",
        "#YOUR CODE ENDS HERE"
      ]
    },
    {
      "cell_type": "code",
      "execution_count": null,
      "metadata": {
        "id": "afCQdcjgkyMS"
      },
      "outputs": [],
      "source": [
        "# Reshape it as 2D array of shape (5,7)\n",
        "\n",
        "#YOUR CODE STARTS HERE\n",
        "y =\n",
        "#YOUR CODE ENDS HERE\n",
        "y.shape"
      ]
    },
    {
      "cell_type": "code",
      "execution_count": null,
      "metadata": {
        "id": "E5Kjphuyk1AW"
      },
      "outputs": [],
      "source": [
        "# Extract all the elements from 2nd and 3rd row\n",
        "\n",
        "#YOUR CODE STARTS HERE\n",
        "y_row =\n",
        "#YOUR CODE ENDS HERE"
      ]
    },
    {
      "cell_type": "code",
      "execution_count": null,
      "metadata": {
        "id": "9zpcaEYFk21B"
      },
      "outputs": [],
      "source": [
        "# Extract all the elements from 3rd and 5th and 7th column\n",
        "\n",
        "#YOUR CODE STARTS HERE\n",
        "y_column =\n",
        "#YOUR CODE ENDS HERE"
      ]
    },
    {
      "cell_type": "markdown",
      "metadata": {
        "id": "icAVnHAtPuq9"
      },
      "source": [
        "#### Horizontal and vertical stacking of numpy array"
      ]
    },
    {
      "cell_type": "code",
      "execution_count": null,
      "metadata": {
        "id": "0ExpG_f7OPhB"
      },
      "outputs": [],
      "source": [
        "## horizontal and vertical stacking of 1D arrays\n",
        "a = np.array([4.,2.])\n",
        "b = np.array([3.,8.])\n",
        "\n",
        "#YOUR CODE STARTS HERE\n",
        "# Horizontal stacking\n",
        "h_stack =\n",
        "\n",
        "# Vertical Stacking\n",
        "v_stack =\n",
        "#YOUR CODE ENDS HERE"
      ]
    },
    {
      "cell_type": "markdown",
      "metadata": {
        "id": "v0r_IgoQYW1p"
      },
      "source": [
        "#### `argmin` and `argmax` in numpy array"
      ]
    },
    {
      "cell_type": "code",
      "execution_count": null,
      "metadata": {
        "id": "rh7FI-uZYWXR"
      },
      "outputs": [],
      "source": [
        "# Define an array\n",
        "arr = np.array([[5,12,51,25] ,[25,29,2,27]])\n",
        "\n",
        "# YOUR CODE STARTS HERE\n",
        "#Find the position of maximum and minimum value of above array\n",
        "max_idx =\n",
        "min_idx =\n",
        "print (max_idx,min_idx)\n",
        "\n",
        "#Find the indices of maximum and minimum value along each of its columns.\n",
        "max_col =\n",
        "min_col =\n",
        "print (max_col,min_col)\n",
        "\n",
        "#Find the indices of maximum and minimum value along each of the its rows.\n",
        "max_row =\n",
        "min_row =\n",
        "print (max_row,min_row)\n",
        "#YOUR CODE ENDS HERE"
      ]
    }
  ],
  "metadata": {
    "colab": {
      "provenance": [],
      "include_colab_link": true
    },
    "kernelspec": {
      "display_name": "Python 3",
      "language": "python",
      "name": "python3"
    },
    "language_info": {
      "codemirror_mode": {
        "name": "ipython",
        "version": 3
      },
      "file_extension": ".py",
      "mimetype": "text/x-python",
      "name": "python",
      "nbconvert_exporter": "python",
      "pygments_lexer": "ipython3",
      "version": "3.7.3"
    }
  },
  "nbformat": 4,
  "nbformat_minor": 0
}